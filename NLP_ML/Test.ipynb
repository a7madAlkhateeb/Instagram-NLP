{
 "cells": [
  {
   "cell_type": "code",
   "execution_count": 2,
   "id": "8a0522e0-fc50-484e-bce8-dbdc8e81f535",
   "metadata": {},
   "outputs": [
    {
     "name": "stdout",
     "output_type": "stream",
     "text": [
      "sadasd\n"
     ]
    }
   ],
   "source": [
    "print('sadasd')"
   ]
  },
  {
   "cell_type": "code",
   "execution_count": null,
   "id": "f834d9d0-2040-4181-84fc-d9e2263c1da3",
   "metadata": {},
   "outputs": [],
   "source": []
  }
 ],
 "metadata": {
  "kernelspec": {
   "display_name": "Python 3 (ipykernel)",
   "language": "python",
   "name": "python3"
  },
  "language_info": {
   "codemirror_mode": {
    "name": "ipython",
    "version": 3
   },
   "file_extension": ".py",
   "mimetype": "text/x-python",
   "name": "python",
   "nbconvert_exporter": "python",
   "pygments_lexer": "ipython3",
   "version": "3.9.7"
  }
 },
 "nbformat": 4,
 "nbformat_minor": 5
}
